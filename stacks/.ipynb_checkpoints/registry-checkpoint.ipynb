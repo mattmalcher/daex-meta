{
 "cells": [
  {
   "cell_type": "code",
   "execution_count": 13,
   "metadata": {},
   "outputs": [],
   "source": [
    "import requests as rt\n",
    "from pyport.swarm import *"
   ]
  },
  {
   "cell_type": "code",
   "execution_count": 2,
   "metadata": {},
   "outputs": [],
   "source": [
    "def list_secrets(t: str, n: str ='', s: str = 'http://portainer:9000/api', e: str = '1') -> list:\n",
    "    \"\"\"List swarm containers.\n",
    "\n",
    "    List the images on a node.\n",
    "\n",
    "    Args:\n",
    "        t: Authorization token\n",
    "        n: Swarm node to make request on\n",
    "        s: Portainer server api endpoint\n",
    "        e: Docker endpoint id\n",
    "    Returns:\n",
    "        List of image details\n",
    "\n",
    "    \"\"\"\n",
    "    return rt.get(s + '/endpoints/' + e + '/docker/secrets', headers = create_header(t, n)).json()"
   ]
  },
  {
   "cell_type": "code",
   "execution_count": 3,
   "metadata": {},
   "outputs": [],
   "source": [
    "token = generate_token('admin', 'password')"
   ]
  },
  {
   "cell_type": "code",
   "execution_count": 4,
   "metadata": {},
   "outputs": [
    {
     "data": {
      "text/plain": [
       "[{'CreatedAt': '2019-06-10T18:18:23.799288757Z',\n",
       "  'ID': 'wcdkef2f0a8fpcpzyu2ca9zy0',\n",
       "  'Spec': {'Labels': {}, 'Name': 'docker.service.key'},\n",
       "  'UpdatedAt': '2019-06-10T18:18:23.799288757Z',\n",
       "  'Version': {'Index': 136436}},\n",
       " {'CreatedAt': '2019-06-10T18:18:23.74815085Z',\n",
       "  'ID': 'ywaaqbzaj326e14k75bjov8pj',\n",
       "  'Spec': {'Labels': {}, 'Name': 'docker.service.crt'},\n",
       "  'UpdatedAt': '2019-06-10T18:18:23.74815085Z',\n",
       "  'Version': {'Index': 136435}}]"
      ]
     },
     "execution_count": 4,
     "metadata": {},
     "output_type": "execute_result"
    }
   ],
   "source": [
    "list_secrets(token)"
   ]
  },
  {
   "cell_type": "code",
   "execution_count": 62,
   "metadata": {},
   "outputs": [],
   "source": [
    "def create_secret(t: str, a: str, b: str, n: str ='', s: str = 'http://portainer:9000/api', e: str = '1'):\n",
    "    return rt.post(\n",
    "        s + '/endpoints/' + e + '/docker/secrets/create',\n",
    "        headers = create_header(t, n),\n",
    "        data = get_json(\n",
    "            {\n",
    "                'Name': a,\n",
    "                'Data': base64.b64encode(open(b, 'rb').read()).decode('utf-8')\n",
    "            }\n",
    "        )\n",
    "    ).json()\n",
    "\n",
    "\n",
    "def get_secret(t: str, k: str, n: str ='', s: str = 'http://portainer:9000/api', e: str = '1'):\n",
    "    return rt.get(s + '/endpoints/' + e + '/docker/secrets/' + k, headers = create_header(t, n)).json()\n",
    "\n",
    "\n",
    "def remove_secret(t: str, k: str, n: str ='', s: str = 'http://portainer:9000/api', e: str = '1'):\n",
    "    return rt.delete(s + '/endpoints/' + e + '/docker/secrets/' + k, headers = create_header(t, n))\n"
   ]
  },
  {
   "cell_type": "code",
   "execution_count": 59,
   "metadata": {},
   "outputs": [
    {
     "data": {
      "text/plain": [
       "{'ID': '5wv9dp3d4uh0bw5embdr8ki18'}"
      ]
     },
     "execution_count": 59,
     "metadata": {},
     "output_type": "execute_result"
    }
   ],
   "source": [
    "create_secret(token, 'test.secret.2', 'registry/certs/docker.service.crt')"
   ]
  },
  {
   "cell_type": "code",
   "execution_count": 63,
   "metadata": {},
   "outputs": [
    {
     "data": {
      "text/plain": [
       "{'CreatedAt': '2019-10-07T15:10:31.39890793Z',\n",
       " 'ID': '5wv9dp3d4uh0bw5embdr8ki18',\n",
       " 'Spec': {'Labels': {}, 'Name': 'test.secret.2'},\n",
       " 'UpdatedAt': '2019-10-07T15:10:31.39890793Z',\n",
       " 'Version': {'Index': 139693}}"
      ]
     },
     "execution_count": 63,
     "metadata": {},
     "output_type": "execute_result"
    }
   ],
   "source": [
    "get_secret(token, '5wv9dp3d4uh0bw5embdr8ki')"
   ]
  },
  {
   "cell_type": "code",
   "execution_count": 65,
   "metadata": {},
   "outputs": [
    {
     "data": {
      "text/plain": [
       "<Response [204]>"
      ]
     },
     "execution_count": 65,
     "metadata": {},
     "output_type": "execute_result"
    }
   ],
   "source": [
    "remove_secret(token, '5wv9dp3d4uh0bw5embdr8k')"
   ]
  }
 ],
 "metadata": {
  "kernelspec": {
   "display_name": "Python 3",
   "language": "python",
   "name": "python3"
  },
  "language_info": {
   "codemirror_mode": {
    "name": "ipython",
    "version": 3
   },
   "file_extension": ".py",
   "mimetype": "text/x-python",
   "name": "python",
   "nbconvert_exporter": "python",
   "pygments_lexer": "ipython3",
   "version": "3.6.8"
  }
 },
 "nbformat": 4,
 "nbformat_minor": 4
}
